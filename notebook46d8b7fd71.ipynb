{
 "cells": [
  {
   "cell_type": "code",
   "execution_count": 1,
   "id": "fa8a60ea",
   "metadata": {
    "_cell_guid": "b1076dfc-b9ad-4769-8c92-a6c4dae69d19",
    "_uuid": "8f2839f25d086af736a60e9eeb907d3b93b6e0e5",
    "execution": {
     "iopub.execute_input": "2025-06-23T03:54:05.334529Z",
     "iopub.status.busy": "2025-06-23T03:54:05.334160Z",
     "iopub.status.idle": "2025-06-23T03:54:07.242683Z",
     "shell.execute_reply": "2025-06-23T03:54:07.241454Z"
    },
    "papermill": {
     "duration": 1.913311,
     "end_time": "2025-06-23T03:54:07.244219",
     "exception": false,
     "start_time": "2025-06-23T03:54:05.330908",
     "status": "completed"
    },
    "tags": []
   },
   "outputs": [
    {
     "name": "stdout",
     "output_type": "stream",
     "text": [
      "/kaggle/input/titanic/train.csv\n",
      "/kaggle/input/titanic/test.csv\n",
      "/kaggle/input/titanic/gender_submission.csv\n"
     ]
    }
   ],
   "source": [
    "# This Python 3 environment comes with many helpful analytics libraries installed\n",
    "# It is defined by the kaggle/python Docker image: https://github.com/kaggle/docker-python\n",
    "# For example, here's several helpful packages to load\n",
    "\n",
    "import numpy as np # linear algebra\n",
    "import pandas as pd # data processing, CSV file I/O (e.g. pd.read_csv)\n",
    "\n",
    "# Input data files are available in the read-only \"../input/\" directory\n",
    "# For example, running this (by clicking run or pressing Shift+Enter) will list all files under the input directory\n",
    "\n",
    "import os\n",
    "for dirname, _, filenames in os.walk('/kaggle/input'):\n",
    "    for filename in filenames:\n",
    "        print(os.path.join(dirname, filename))\n",
    "\n",
    "# You can write up to 20GB to the current directory (/kaggle/working/) that gets preserved as output when you create a version using \"Save & Run All\" \n",
    "# You can also write temporary files to /kaggle/temp/, but they won't be saved outside of the current session"
   ]
  },
  {
   "cell_type": "code",
   "execution_count": 2,
   "id": "d96b62aa",
   "metadata": {
    "execution": {
     "iopub.execute_input": "2025-06-23T03:54:07.249296Z",
     "iopub.status.busy": "2025-06-23T03:54:07.248907Z",
     "iopub.status.idle": "2025-06-23T03:54:07.295540Z",
     "shell.execute_reply": "2025-06-23T03:54:07.294052Z"
    },
    "papermill": {
     "duration": 0.050977,
     "end_time": "2025-06-23T03:54:07.297182",
     "exception": false,
     "start_time": "2025-06-23T03:54:07.246205",
     "status": "completed"
    },
    "tags": []
   },
   "outputs": [
    {
     "name": "stdout",
     "output_type": "stream",
     "text": [
      "     PassengerId  Survived  Pclass                            Name     Sex  \\\n",
      "502          503         0       3  O'Sullivan, Miss. Bridget Mary  female   \n",
      "22            23         1       3     McGowan, Miss. Anna \"Annie\"  female   \n",
      "478          479         0       3       Karlsson, Mr. Nils August    male   \n",
      "855          856         1       3      Aks, Mrs. Sam (Leah Rosen)  female   \n",
      "155          156         0       1     Williams, Mr. Charles Duane    male   \n",
      "491          492         0       3             Windelov, Mr. Einar    male   \n",
      "301          302         1       3              McCoy, Mr. Bernard    male   \n",
      "126          127         0       3             McMahon, Mr. Martin    male   \n",
      "392          393         0       3    Gustafsson, Mr. Johan Birger    male   \n",
      "252          253         0       1       Stead, Mr. William Thomas    male   \n",
      "\n",
      "      Age  SibSp  Parch            Ticket     Fare Cabin Embarked  \n",
      "502   NaN      0      0            330909   7.6292   NaN        Q  \n",
      "22   15.0      0      0            330923   8.0292   NaN        Q  \n",
      "478  22.0      0      0            350060   7.5208   NaN        S  \n",
      "855  18.0      0      1            392091   9.3500   NaN        S  \n",
      "155  51.0      0      1          PC 17597  61.3792   NaN        C  \n",
      "491  21.0      0      0  SOTON/OQ 3101317   7.2500   NaN        S  \n",
      "301   NaN      2      0            367226  23.2500   NaN        Q  \n",
      "126   NaN      0      0            370372   7.7500   NaN        Q  \n",
      "392  28.0      2      0           3101277   7.9250   NaN        S  \n",
      "252  62.0      0      0            113514  26.5500   C87        S  \n"
     ]
    },
    {
     "name": "stderr",
     "output_type": "stream",
     "text": [
      "/usr/local/lib/python3.11/dist-packages/pandas/io/formats/format.py:1458: RuntimeWarning: invalid value encountered in greater\n",
      "  has_large_values = (abs_vals > 1e6).any()\n",
      "/usr/local/lib/python3.11/dist-packages/pandas/io/formats/format.py:1459: RuntimeWarning: invalid value encountered in less\n",
      "  has_small_values = ((abs_vals < 10 ** (-self.digits)) & (abs_vals > 0)).any()\n",
      "/usr/local/lib/python3.11/dist-packages/pandas/io/formats/format.py:1459: RuntimeWarning: invalid value encountered in greater\n",
      "  has_small_values = ((abs_vals < 10 ** (-self.digits)) & (abs_vals > 0)).any()\n"
     ]
    }
   ],
   "source": [
    "train = pd.read_csv(\"/kaggle/input/titanic/train.csv\")\n",
    "# print(train.head())\n",
    "# train.describe()\n",
    "# train.info()\n",
    "# train.shape\n",
    "#train.columns\n",
    "#train.index\n",
    "#train.dtypes\n",
    "# train.isnull().sum()\n",
    "# cabin_col = train.iloc[:,10]\n",
    "# print(cabin_col)\n",
    "# print(cabin_col.head())\n",
    "# print(cabin_col.shape)\n",
    "# print(train.head())\n",
    "# print(train.nunique())\n",
    "# print(train[\"Name\"].value_counts())\n",
    "print(train.sample(n=10))\n",
    "#num_dos = data_train[data_train.iloc[:, -1] == 1].shape[0]\n",
    "# train.iloc"
   ]
  },
  {
   "cell_type": "code",
   "execution_count": null,
   "id": "b4261570",
   "metadata": {
    "papermill": {
     "duration": 0.001715,
     "end_time": "2025-06-23T03:54:07.300835",
     "exception": false,
     "start_time": "2025-06-23T03:54:07.299120",
     "status": "completed"
    },
    "tags": []
   },
   "outputs": [],
   "source": []
  }
 ],
 "metadata": {
  "kaggle": {
   "accelerator": "none",
   "dataSources": [
    {
     "databundleVersionId": 26502,
     "sourceId": 3136,
     "sourceType": "competition"
    }
   ],
   "dockerImageVersionId": 31040,
   "isGpuEnabled": false,
   "isInternetEnabled": false,
   "language": "python",
   "sourceType": "notebook"
  },
  "kernelspec": {
   "display_name": "Python 3",
   "language": "python",
   "name": "python3"
  },
  "language_info": {
   "codemirror_mode": {
    "name": "ipython",
    "version": 3
   },
   "file_extension": ".py",
   "mimetype": "text/x-python",
   "name": "python",
   "nbconvert_exporter": "python",
   "pygments_lexer": "ipython3",
   "version": "3.11.11"
  },
  "papermill": {
   "default_parameters": {},
   "duration": 7.27715,
   "end_time": "2025-06-23T03:54:07.821787",
   "environment_variables": {},
   "exception": null,
   "input_path": "__notebook__.ipynb",
   "output_path": "__notebook__.ipynb",
   "parameters": {},
   "start_time": "2025-06-23T03:54:00.544637",
   "version": "2.6.0"
  }
 },
 "nbformat": 4,
 "nbformat_minor": 5
}
